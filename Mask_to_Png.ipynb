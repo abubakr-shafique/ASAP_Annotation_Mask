{
 "cells": [
  {
   "cell_type": "code",
   "execution_count": 4,
   "id": "774bbb4c",
   "metadata": {},
   "outputs": [],
   "source": [
    "import sys\n",
    "import os\n",
    "\n",
    "import numpy as np\n",
    "import openslide\n",
    "from PIL import Image"
   ]
  },
  {
   "cell_type": "code",
   "execution_count": 5,
   "id": "714d9f0f",
   "metadata": {},
   "outputs": [],
   "source": [
    "mask_folder = \"D:\\\\AB\\\\ASAP_Annotation_Mask\\\\OICR_Anno_Mask\\\\Normal\"\n",
    "\n",
    "image_extension = ['tif']\n",
    "\n",
    "WSIs = [fn for fn in os.listdir(mask_folder) if any(fn.endswith(ext) for ext in image_extension)]"
   ]
  },
  {
   "cell_type": "code",
   "execution_count": 6,
   "id": "6b46bb20",
   "metadata": {},
   "outputs": [],
   "source": [
    "for F in WSIs:\n",
    "    \n",
    "    mask_slide = os.path.join(mask_folder, F)\n",
    "    \n",
    "    slide = openslide.OpenSlide(mask_slide)\n",
    "    Img = slide.read_region((0,0), 5, slide.level_dimensions[5])\n",
    "    Img.save(mask_slide[:-3]+\"png\")\n",
    "    slide.close()\n",
    "    os.remove(mask_slide)"
   ]
  },
  {
   "cell_type": "code",
   "execution_count": null,
   "id": "4ed14d75",
   "metadata": {},
   "outputs": [],
   "source": []
  }
 ],
 "metadata": {
  "kernelspec": {
   "display_name": "Python 3",
   "language": "python",
   "name": "python3"
  },
  "language_info": {
   "codemirror_mode": {
    "name": "ipython",
    "version": 3
   },
   "file_extension": ".py",
   "mimetype": "text/x-python",
   "name": "python",
   "nbconvert_exporter": "python",
   "pygments_lexer": "ipython3",
   "version": "3.9.19"
  }
 },
 "nbformat": 4,
 "nbformat_minor": 5
}
